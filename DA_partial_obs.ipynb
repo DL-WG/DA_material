{
  "cells": [
    {
      "cell_type": "code",
      "execution_count": 1,
      "id": "90b8f618",
      "metadata": {
        "colab": {
          "base_uri": "https://localhost:8080/",
          "height": 282
        },
        "id": "90b8f618",
        "outputId": "e5eee406-1355-40cb-a965-a4a83d841b0c"
      },
      "outputs": [
        {
          "output_type": "execute_result",
          "data": {
            "text/plain": [
              "[<matplotlib.lines.Line2D at 0x7fdd838b16d0>]"
            ]
          },
          "metadata": {},
          "execution_count": 1
        },
        {
          "output_type": "display_data",
          "data": {
            "text/plain": [
              "<Figure size 432x288 with 1 Axes>"
            ],
            "image/png": "[encoded data removed]"
          },
          "metadata": {
            "needs_background": "light"
          }
        }
      ],
      "source": [
        "import pandas as pd\n",
        "import numpy as np\n",
        "import matplotlib.pyplot as plt\n",
        "import math\n",
        "\n",
        "X=np.arange(0,5,0.1)\n",
        "Y_obs=np.zeros(len(X))\n",
        "\n",
        "for i in np.arange(len(X)):  \n",
        "    Y_obs[i]= 5*X[i]+0.2  #you can add some noise\n",
        "    \n",
        "def toyModel(x,X):\n",
        "    Y=np.zeros(len(X))\n",
        "    for i in range(len(X)):  \n",
        "        Y[i]=x[0]*X[i]+x[1]  # you can add some noise if you want\n",
        "        \n",
        "    return Y\n",
        "\n",
        "\n",
        "#Range of a and b is given below\n",
        "\n",
        "#2 <= a <= 10\n",
        "#0.1= b <= 2\n",
        "\n",
        "Y = toyModel([3,0.5],X)\n",
        "plt.plot(X,Y)\n",
        "plt.plot(X,Y_obs,'r')"
      ]
    },
    {
      "cell_type": "markdown",
      "source": [
        "# simple Kalman"
      ],
      "metadata": {
        "id": "QB0nmx2-VF4y"
      },
      "id": "QB0nmx2-VF4y"
    },
    {
      "cell_type": "code",
      "execution_count": 5,
      "id": "8a9bdb42",
      "metadata": {
        "id": "8a9bdb42"
      },
      "outputs": [],
      "source": [
        "def Kalman(Xb,Y,H,B,R,HXb): #booleen=0 garde la trace\n",
        "    # xb: priori, Y: observation, H: obs. matrix, B: priori estimate uncertainty\n",
        "    # R: Measurement uncertainty\n",
        "    # need to linerize your function H here\n",
        "    Xb.shape = (-1,1)\n",
        "    Y.shape = (-1,1)\n",
        "    HXb.shape = (-1,1)\n",
        "    K=np.dot(B,np.dot(H.T,float(np.dot(H,np.dot(B,H.T))+R)**(-1))) \n",
        "    Xa=Xb + K.reshape(-1,1)*float(Y-HXb)\n",
        "    return Xa"
      ]
    },
    {
      "cell_type": "code",
      "source": [
        "X=np.arange(0,5,0.1)\n",
        "Xb = [3,0.5] # initialize\n",
        "\n",
        "Y_traj_EnKF = []\n",
        "\n",
        "for i in range(len(X)):\n",
        "  H = np.array([X[i],1])\n",
        "  HXb = toyModel(Xb,[X[i]])\n",
        "  Xa=Kalman(np.array(Xb),np.array([Y_obs[i]]),H,np.eye(2),np.eye(1),HXb)\n",
        "  Xb = Xa\n",
        "  Y_traj_EnKF.append(float(toyModel(Xa,[X[i]])))"
      ],
      "metadata": {
        "id": "Gkdi8HKaJqxV"
      },
      "id": "Gkdi8HKaJqxV",
      "execution_count": 6,
      "outputs": []
    },
    {
      "cell_type": "code",
      "source": [
        "Y = toyModel([3,0.5],X)\n",
        "plt.plot(X,Y_traj_EnKF,'g',label = 'EnKF')\n",
        "plt.plot(X,Y,label = 'background')\n",
        "plt.plot(X,Y_obs,'r',label = 'obs')\n",
        "plt.legend()"
      ],
      "metadata": {
        "colab": {
          "base_uri": "https://localhost:8080/",
          "height": 282
        },
        "id": "zf8eoySdNAjo",
        "outputId": "a0e7ce7a-870e-48b9-b272-f191ab727132"
      },
      "id": "zf8eoySdNAjo",
      "execution_count": 8,
      "outputs": [
        {
          "output_type": "execute_result",
          "data": {
            "text/plain": [
              "<matplotlib.legend.Legend at 0x7fdd82f2ef50>"
            ]
          },
          "metadata": {},
          "execution_count": 8
        },
        {
          "output_type": "display_data",
          "data": {
            "text/plain": [
              "<Figure size 432x288 with 1 Axes>"
            ],
            "image/png": "[encoded data removed]"
          },
          "metadata": {
            "needs_background": "light"
          }
        }
      ]
    },
    {
      "cell_type": "markdown",
      "source": [
        "#Ensemble Kalman"
      ],
      "metadata": {
        "id": "DWhFy_bZVIb3"
      },
      "id": "DWhFy_bZVIb3"
    },
    {
      "cell_type": "code",
      "source": [
        "ens_size = 20\n",
        "Xb_ens = np.random.multivariate_normal(np.array([3,0.5]), 0.2*np.eye(2),ens_size)\n",
        "print(Xb_ens)"
      ],
      "metadata": {
        "colab": {
          "base_uri": "https://localhost:8080/"
        },
        "id": "fFFWdZ8iN_Gd",
        "outputId": "fdddbdcc-dc64-45f2-ca1c-8f88c1330123"
      },
      "id": "fFFWdZ8iN_Gd",
      "execution_count": 16,
      "outputs": [
        {
          "output_type": "stream",
          "name": "stdout",
          "text": [
            "[[ 3.05918342  0.71371833]\n",
            " [ 3.20032483  0.27157907]\n",
            " [ 3.59090189  0.53828507]\n",
            " [ 2.81822351 -0.15647981]\n",
            " [ 2.62212211  0.34991054]\n",
            " [ 2.80095532 -0.39264619]\n",
            " [ 2.88021553  1.49098591]\n",
            " [ 2.42710056  1.2076732 ]\n",
            " [ 3.35519383  0.30551958]\n",
            " [ 2.65285248  0.10516254]\n",
            " [ 2.94497716  1.27659303]\n",
            " [ 2.12125301  0.09904053]\n",
            " [ 2.7428974   1.17874046]\n",
            " [ 2.33924602  0.06642256]\n",
            " [ 2.99907627 -0.56019592]\n",
            " [ 2.72012069  1.10147557]\n",
            " [ 3.5469766   0.14288159]\n",
            " [ 2.89315214  1.07970298]\n",
            " [ 3.13012215  0.09122054]\n",
            " [ 3.27821985  1.1053699 ]]\n"
          ]
        }
      ]
    },
    {
      "cell_type": "code",
      "source": [
        "X=np.arange(0,5,0.1)\n",
        "Xa_ens = np.copy(Xb_ens)\n",
        "\n",
        "def toyModel(x,X):\n",
        "    Y=np.zeros(len(X))\n",
        "    for i in range(len(X)):  \n",
        "        Y[i]=x[0]*X[i]+x[1] \n",
        "    return Y\n",
        "\n",
        "Y_traj_EnKF = []\n",
        "\n",
        "for i in range(len(X)):\n",
        "  B = np.cov( Xb_ens.T)\n",
        "  for j in range(ens_size):\n",
        "    Xb = Xb_ens[j,:].reshape(-1,1)\n",
        "    H = np.array([X[i],1])\n",
        "    HXb = toyModel(Xb,[X[i]])\n",
        "    Xa=Kalman(np.array(Xb),np.array([Y_obs[i] ]),H,np.eye(2),0.01*np.eye(1),HXb)\n",
        "    Xa_ens[j,:] = Xa.ravel()\n",
        "  Xa = np.mean(Xa_ens,axis = 0)\n",
        "  Y_traj_EnKF.append(float(toyModel(Xa,[X[i]])))"
      ],
      "metadata": {
        "id": "i3Omi1-WV3BL"
      },
      "id": "i3Omi1-WV3BL",
      "execution_count": 38,
      "outputs": []
    },
    {
      "cell_type": "code",
      "source": [
        "Y = toyModel([3,0.5],X)\n",
        "plt.plot(X,Y_traj_EnKF,'g')\n",
        "plt.plot(X,Y)\n",
        "plt.plot(X,Y_obs,'r')"
      ],
      "metadata": {
        "colab": {
          "base_uri": "https://localhost:8080/",
          "height": 282
        },
        "id": "FIgcgo9RXKfV",
        "outputId": "b7906d14-319c-414a-e203-e13839a4faac"
      },
      "id": "FIgcgo9RXKfV",
      "execution_count": 39,
      "outputs": [
        {
          "output_type": "execute_result",
          "data": {
            "text/plain": [
              "[<matplotlib.lines.Line2D at 0x7fdd827e6310>]"
            ]
          },
          "metadata": {},
          "execution_count": 39
        },
        {
          "output_type": "display_data",
          "data": {
            "text/plain": [
              "<Figure size 432x288 with 1 Axes>"
            ],
            "image/png": "[encoded data removed]"
          },
          "metadata": {
            "needs_background": "light"
          }
        }
      ]
    },
    {
      "cell_type": "code",
      "source": [
        "def toyModel(x,X):\n",
        "    Y=np.zeros(len(X))\n",
        "    for i in range(len(X)):  \n",
        "        Y[i]=x[0]*X[i]+x[1]+ np.random.normal(0, 0.1)   \n",
        "    return Y\n"
      ],
      "metadata": {
        "id": "HadwSduptzY_"
      },
      "id": "HadwSduptzY_",
      "execution_count": null,
      "outputs": []
    },
    {
      "cell_type": "markdown",
      "source": [
        "# Variational"
      ],
      "metadata": {
        "id": "qkzsyDw3kgpM"
      },
      "id": "qkzsyDw3kgpM"
    },
    {
      "cell_type": "code",
      "source": [
        "from google.colab import drive\n",
        "drive.mount('/content/drive')\n",
        "\n",
        "file = pd.read_excel (r'drive/MyDrive/Kumar/Book1.xlsx', \"Sheet1\")\n",
        "X= (file['X']).values.tolist()\n",
        "Y= (file['Y']).values.tolist()\n",
        "\n",
        "X_obs=np.array(X)\n",
        "Y_obs=np.array(Y)*10\n",
        "\n",
        "#function to estimate Y with given k and n (to be assimilated), X (given displacement)\n",
        "\n",
        "\n",
        "def forcastModel(k,n,xu_bar,yu_bar,x_norm,y_norm, X_obs):\n",
        "    Y=np.zeros(len(X_obs))\n",
        "    D= 10\n",
        "    a=1-2*n\n",
        "    x_bar=X_obs*x_norm\n",
        "    b=2*n*(x_bar)/xu_bar - (1-n)*(1+(x_bar*k/yu_bar))\n",
        "    c=x_bar*k/yu_bar*(1-n)-n*x_bar*x_bar/(xu_bar*xu_bar)\n",
        "    \n",
        "    for i in np.arange(len(X_obs)):  \n",
        "        Y[i]=y_norm*(yu_bar*((2*c[i])/(-b[i]+math.sqrt(max(0,b[i]*b[i]-4*a*c[i])))))\n",
        "    return Y\n",
        "\n",
        "\n",
        "#My initial guess for the parameters\n",
        "# 4 <= k <= 12\n",
        "# 0 <= n <= 1\n",
        "# xu_bar > yu_bar/k\n",
        "\n",
        "\n",
        "#I know below guess is bad, but I can confirm the parameters after discussing with the experiment guys onl \n",
        "# 100 <=xu_bar <= 500  y\n",
        "# 5 <= yu_bar <= 15\n",
        "# 70 <= x_norm <= 120\n",
        "# 800 <= y_norm <= 1500\n",
        "\n",
        "\n",
        "\n",
        "#trial run with given n,k,xu_bar,yu_bar,x_norm,y_norm\n",
        "Y = forcastModel(8,0.9,200,11,90,1220,X_obs)\n",
        "plt.plot(X_obs,Y,'r') #from forcast model\n",
        "plt.plot(X_obs,Y_obs,'*') #Corrected observation"
      ],
      "metadata": {
        "colab": {
          "base_uri": "https://localhost:8080/",
          "height": 300
        },
        "id": "CfWg8ESNjlGZ",
        "outputId": "203db07d-b731-4648-88b0-c6f40e8895ff"
      },
      "id": "CfWg8ESNjlGZ",
      "execution_count": null,
      "outputs": [
        {
          "output_type": "stream",
          "name": "stdout",
          "text": [
            "Drive already mounted at /content/drive; to attempt to forcibly remount, call drive.mount(\"/content/drive\", force_remount=True).\n"
          ]
        },
        {
          "output_type": "execute_result",
          "data": {
            "text/plain": [
              "[<matplotlib.lines.Line2D at 0x7f46a37c7a50>]"
            ]
          },
          "metadata": {},
          "execution_count": 174
        },
        {
          "output_type": "display_data",
          "data": {
            "text/plain": [
              "<Figure size 432x288 with 1 Axes>"
            ],
            "image/png": "[encoded data removed]"
          },
          "metadata": {
            "needs_background": "light"
          }
        }
      ]
    },
    {
      "cell_type": "code",
      "source": [
        "!pip install smt\n",
        "!pip install adao"
      ],
      "metadata": {
        "id": "a95LIbSxlLjG"
      },
      "id": "a95LIbSxlLjG",
      "execution_count": null,
      "outputs": []
    },
    {
      "cell_type": "code",
      "source": [
        "from smt.sampling_methods import LHS\n",
        "from adao import adaoBuilder\n",
        "from sklearn.preprocessing import PolynomialFeatures"
      ],
      "metadata": {
        "id": "0qwnKXvylNYu"
      },
      "id": "0qwnKXvylNYu",
      "execution_count": null,
      "outputs": []
    },
    {
      "cell_type": "code",
      "source": [
        "x_b = np.array([8,0.9,200,11,90,1220])\n",
        "\n",
        "Var_traj = []\n",
        "\n",
        "#for i in range(11,len(X_obs)):\n",
        "for i in range(11,86):\n",
        "  print('step',i)\n",
        "  Y_current_obs=Y_obs[10:i]\n",
        "  def f(x):\n",
        "    return forcastModel(x[0],x[1],x[2],x[3],x[4],x[5], X_obs[10:i])\n",
        "  diag_B = np.ones(Y_current_obs.size)\n",
        "  if Y_current_obs.size>= 10:\n",
        "    diag_B[-10:-1] = np.ones(9) * 0.1\n",
        "\n",
        "  case = adaoBuilder.New()\n",
        "  case.set( 'AlgorithmParameters', Algorithm='3DVAR',\n",
        "            Parameters = {\"Minimizer\" : \"LBFGSB\",\"MaximumNumberOfSteps\":100,\n",
        "                          \"Bounds\":[[4,12],[0,1],[100,500],[5,15],[70,120],[800,1500]],\n",
        "                        # \"CostDecrementTolerance\":1.e-5,\n",
        "                          \"StoreSupplementaryCalculations\":[\"CostFunctionJ\",\"CurrentState\",\n",
        "                          \"SimulatedObservationAtOptimum\",\n",
        "                          \"SimulatedObservationAtBackground\",\n",
        "                          \"JacobianMatrixAtBackground\",\n",
        "                          \"JacobianMatrixAtOptimum\",\n",
        "                          \"KalmanGainAtOptimum\",\n",
        "                          \"APosterioriCovariance\"]\n",
        "                          } )\n",
        "  case.set( 'Background',          Vector=x_b)\n",
        "  case.set( 'BackgroundError',     ScalarSparseMatrix=1000.0 )\n",
        "  case.set( 'Observation',         Vector=Y_current_obs )\n",
        "  case.set( 'ObservationError',    Matrix = np.diag(diag_B) )\n",
        "  case.set( 'ObservationOperator', OneFunction = f)\n",
        "\n",
        "  case.execute()\n",
        "\n",
        "  x_a = case.get(\"Analysis\")[-1]\n",
        "  x_b = x_a\n",
        "\n",
        "  Var_traj.append(f(x_a)[-1])\n"
      ],
      "metadata": {
        "colab": {
          "base_uri": "https://localhost:8080/"
        },
        "id": "xzVmMQ5YlXzQ",
        "outputId": "eb09ddec-5eeb-46fd-9de2-0f113012a065"
      },
      "id": "xzVmMQ5YlXzQ",
      "execution_count": null,
      "outputs": [
        {
          "output_type": "stream",
          "name": "stdout",
          "text": [
            "step 11\n",
            "step 12\n",
            "step 13\n",
            "step 14\n",
            "step 15\n",
            "step 16\n",
            "step 17\n",
            "step 18\n",
            "step 19\n",
            "step 20\n",
            "step 21\n",
            "step 22\n",
            "step 23\n",
            "step 24\n",
            "step 25\n",
            "step 26\n",
            "step 27\n",
            "step 28\n",
            "step 29\n",
            "step 30\n",
            "step 31\n",
            "step 32\n",
            "step 33\n",
            "step 34\n",
            "step 35\n",
            "step 36\n",
            "step 37\n",
            "step 38\n",
            "step 39\n",
            "step 40\n",
            "step 41\n",
            "step 42\n",
            "step 43\n",
            "step 44\n",
            "step 45\n",
            "step 46\n",
            "step 47\n",
            "step 48\n",
            "step 49\n",
            "step 50\n",
            "step 51\n",
            "step 52\n",
            "step 53\n",
            "step 54\n",
            "step 55\n",
            "step 56\n",
            "step 57\n",
            "step 58\n",
            "step 59\n",
            "step 60\n",
            "step 61\n",
            "step 62\n",
            "step 63\n",
            "step 64\n",
            "step 65\n",
            "step 66\n",
            "step 67\n",
            "step 68\n",
            "step 69\n",
            "step 70\n",
            "step 71\n",
            "step 72\n",
            "step 73\n",
            "step 74\n",
            "step 75\n",
            "step 76\n",
            "step 77\n",
            "step 78\n",
            "step 79\n",
            "step 80\n",
            "step 81\n",
            "step 82\n",
            "step 83\n",
            "step 84\n",
            "step 85\n"
          ]
        }
      ]
    },
    {
      "cell_type": "code",
      "source": [
        "X= (file['X']).values.tolist()\n",
        "x_b = np.array([8,0.9,200,11,90,1220])\n",
        "def f(x):\n",
        "  return forcastModel(x[0],x[1],x[2],x[3],x[4],x[5], X_obs[10:])\n",
        "\n",
        "plt.plot(X[10:],f(x_a),'r',label = 'analysis')\n",
        "plt.plot(X[10:],f(x_b),'b',label = 'background')\n",
        "plt.plot(X[10:],np.array(Y_obs)[10:],'g',label = 'obs')\n",
        "plt.axvline(x=3.,color='m')"
      ],
      "metadata": {
        "colab": {
          "base_uri": "https://localhost:8080/",
          "height": 282
        },
        "id": "1G6QVzTWnjJ0",
        "outputId": "faa5a16f-cc1c-46c3-a55c-ecc50335afdf"
      },
      "id": "1G6QVzTWnjJ0",
      "execution_count": null,
      "outputs": [
        {
          "output_type": "execute_result",
          "data": {
            "text/plain": [
              "<matplotlib.lines.Line2D at 0x7f46a307ae10>"
            ]
          },
          "metadata": {},
          "execution_count": 208
        },
        {
          "output_type": "display_data",
          "data": {
            "text/plain": [
              "<Figure size 432x288 with 1 Axes>"
            ],
            "image/png": "[encoded data removed]"
          },
          "metadata": {
            "needs_background": "light"
          }
        }
      ]
    },
    {
      "cell_type": "markdown",
      "source": [
        "# Particle Filter"
      ],
      "metadata": {
        "id": "Vi8Sv7MClJXV"
      },
      "id": "Vi8Sv7MClJXV"
    },
    {
      "cell_type": "code",
      "source": [
        "\n",
        "\n",
        "import numpy as np\n",
        "import matplotlib.pyplot as plt\n",
        "\n",
        "\n",
        "def estimate(particles, weights):\n",
        "    mean = np.average(particles, weights=weights)\n",
        "    var = np.average((particles - mean) ** 2, weights=weights)\n",
        "    return mean, var\n",
        "\n",
        "\n",
        "def simple_resample(particles, weights):\n",
        "    N = len(particles)\n",
        "    cumulative_sum = np.cumsum(weights)\n",
        "    cumulative_sum[-1] = 1.  \n",
        "    rn = np.random.rand(N)\n",
        "    indexes = np.searchsorted(cumulative_sum, rn)\n",
        "    # resampling stage\n",
        "    particles[:] = particles[indexes]\n",
        "    weights.fill(1.0 / N)\n",
        "    return particles, weights\n",
        "\n",
        "\n",
        "x = np.random.normal(0,1)  # initial value\n",
        "t = 20\n",
        "T = 50  # number of time steps\n",
        "dt = t/T\n",
        "x_N = 0.1*dt  # system covariance\n",
        "x_R = 1*dt  # observation covariance\n",
        "N = 100  # number of particles \n",
        "\n",
        "V = 1  # initial variance\n",
        "x_P = x + np.random.normal(0,V,N)\n",
        "x_P_out = [x_P]\n",
        "\n",
        "\n",
        "z_out = [dt * x ** 3  + np.random.normal(0,x_R)]  # observations\n",
        "x_out = [x]  \n",
        "x_est = x  \n",
        "x_est_out = [x_est]\n",
        "\n",
        "\n",
        "for t in range(1, T):\n",
        "    x = x + dt * x * np.cos(x) + np.random.normal(0,x_N) # dynamical model\n",
        "    z = dt * x ** 3 + np.random.normal(0,x_R)\n",
        "    # updating particles \n",
        "    x_P_update = x_P + dt * x_P * np.cos(x_P) + np.random.normal(0,x_N,N)\n",
        "    z_update = dt * x_P_update ** 3 \n",
        "\n",
        "    P_w = (1 / np.sqrt(2 * np.pi * x_R)) * np.exp(-(z - z_update) ** 2 / (2 * x_R))\n",
        "    P_w /= np.sum(P_w)\n",
        "\n",
        "    x_est, var = estimate(x_P_update, P_w)\n",
        "    # resampling\n",
        "    #x_P, P_w = x_P_update, P_w\n",
        "    x_P, P_w = simple_resample(x_P_update, P_w)\n",
        "\n",
        "    x_out.append(x)\n",
        "    z_out.append(z)\n",
        "    x_est_out.append(x_est)\n",
        "    x_P_out.append(x_P)\n",
        "\n",
        "t = np.arange(0, T)\n",
        "x_P_out = np.array(x_P_out)\n",
        "\n",
        "\n",
        "plt.plot(t, x_out, color='g', linewidth=2, label='true value')\n",
        "plt.plot(t, x_est_out, color='red', linewidth=2, label='estimate value')\n",
        "plt.legend()\n",
        "plt.show()"
      ],
      "metadata": {
        "colab": {
          "base_uri": "https://localhost:8080/",
          "height": 267
        },
        "id": "O8To5s3Wg7nJ",
        "outputId": "61fd5963-d60a-42fb-b40a-9769b8a77bfb"
      },
      "id": "O8To5s3Wg7nJ",
      "execution_count": 42,
      "outputs": [
        {
          "output_type": "display_data",
          "data": {
            "text/plain": [
              "<Figure size 432x288 with 1 Axes>"
            ],
            "image/png": "[encoded data removed]"
          },
          "metadata": {
            "needs_background": "light"
          }
        }
      ]
    },
    {
      "cell_type": "code",
      "source": [
        ""
      ],
      "metadata": {
        "id": "8UIxPrhzvgFH"
      },
      "id": "8UIxPrhzvgFH",
      "execution_count": null,
      "outputs": []
    }
  ],
  "metadata": {
    "kernelspec": {
      "display_name": "Python 3 (ipykernel)",
      "language": "python",
      "name": "python3"
    },
    "language_info": {
      "codemirror_mode": {
        "name": "ipython",
        "version": 3
      },
      "file_extension": ".py",
      "mimetype": "text/x-python",
      "name": "python",
      "nbconvert_exporter": "python",
      "pygments_lexer": "ipython3",
      "version": "3.7.13"
    },
    "colab": {
      "name": "toy model for sibo.ipynb",
      "provenance": []
    }
  },
  "nbformat": 4,
  "nbformat_minor": 5
}